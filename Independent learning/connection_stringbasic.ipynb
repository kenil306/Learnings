{
 "cells": [
  {
   "cell_type": "code",
   "execution_count": null,
   "id": "0daedd50",
   "metadata": {},
   "outputs": [
    {
     "name": "stdout",
     "output_type": "stream",
     "text": [
      "['SQL Server', 'SQL Server Native Client RDA 11.0', 'ODBC Driver 17 for SQL Server']\n"
     ]
    }
   ],
   "source": [
    "import pandas as pd\n",
    "import pyodbc\n",
    "print(pyodbc.drivers())\n"
   ]
  },
  {
   "cell_type": "code",
   "execution_count": null,
   "id": "b0eecafb",
   "metadata": {},
   "outputs": [],
   "source": [
    "connection_string = (\n",
    "    \"Driver={ODBC Driver 17 for SQL Server};\"\n",
    "    \"Server=103.26.207.210;\"\n",
    "    \"Database=aisantelive;\"\n",
    "    \"UID=AI_Intern;\"\n",
    "    \"PWD=intern@123;\")"
   ]
  },
  {
   "cell_type": "code",
   "execution_count": null,
   "id": "82cc5372",
   "metadata": {},
   "outputs": [
    {
     "name": "stdout",
     "output_type": "stream",
     "text": [
      "(1, 'Vendor Purchase-P0000001 / test1', Decimal('10080.00'), Decimal('0.00'), 1, None, None, None, None, None, 1, datetime.datetime(2024, 12, 27, 13, 35, 22, 440000), None, None, 5, None)\n",
      "(2, 'Vendor Purchase-G0000002 / 123', Decimal('4050.00'), Decimal('0.00'), 1, None, None, None, None, None, 1, datetime.datetime(2024, 12, 28, 11, 55, 20, 180000), None, None, 6, None)\n",
      "(3, 'Loss Against Sample Plus Marketing Expense G0000002 / 123', Decimal('0.00'), Decimal('40.50'), None, None, None, None, None, None, 1, datetime.datetime(2024, 12, 28, 11, 55, 20, 180000), None, None, 6, None)\n",
      "(4, 'Vendor Payment-P0000001 / test1', Decimal('0.00'), Decimal('222.00'), 1, None, None, None, None, 1, 1, datetime.datetime(2024, 12, 27, 13, 35, 22, 440000), None, None, 5, None)\n"
     ]
    }
   ],
   "source": [
    "try:\n",
    "    conn = pyodbc.connect(connection_string)\n",
    "    cursor = conn.cursor()\n",
    "\n",
    "    cursor.execute(\"SELECT TOP 5 * FROM Account\")\n",
    "    for row in cursor.fetchall():\n",
    "        print(row)\n",
    "    conn.close()\n",
    "\n",
    "\n",
    "\n",
    "except Exception as e:\n",
    "    print(\"Connection failed\", e)"
   ]
  },
  {
   "cell_type": "code",
   "execution_count": null,
   "id": "1029c01a",
   "metadata": {},
   "outputs": [],
   "source": []
  },
  {
   "cell_type": "code",
   "execution_count": null,
   "id": "bd23dd93",
   "metadata": {},
   "outputs": [],
   "source": []
  }
 ],
 "metadata": {
  "kernelspec": {
   "display_name": "myvenv",
   "language": "python",
   "name": "python3"
  },
  "language_info": {
   "codemirror_mode": {
    "name": "ipython",
    "version": 3
   },
   "file_extension": ".py",
   "mimetype": "text/x-python",
   "name": "python",
   "nbconvert_exporter": "python",
   "pygments_lexer": "ipython3",
   "version": "3.12.8"
  }
 },
 "nbformat": 4,
 "nbformat_minor": 5
}
