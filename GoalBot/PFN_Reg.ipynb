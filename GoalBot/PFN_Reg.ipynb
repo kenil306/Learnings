{
 "cells": [
  {
   "cell_type": "code",
   "execution_count": 2,
   "id": "c5c1e828",
   "metadata": {},
   "outputs": [],
   "source": [
    "import pandas as pd\n",
    "import numpy as np\n",
    "import matplotlib.pyplot as plt\n",
    "from tabpfn import TabPFNRegressor\n",
    "import torch"
   ]
  },
  {
   "cell_type": "code",
   "execution_count": 3,
   "id": "98aed570",
   "metadata": {},
   "outputs": [
    {
     "name": "stdout",
     "output_type": "stream",
     "text": [
      "SMAPE: 79.24%\n",
      "MAPE: 168.93%\n"
     ]
    }
   ],
   "source": [
    "\n",
    "df = pd.read_csv('C:/Kenil Ramani/QB/GoalBot/CSV/dataset_v4.05.csv') \n",
    "df['invoiceDate'] = pd.to_datetime(df['invoiceDate'], errors='coerce')\n",
    "df['amount'] = pd.to_numeric(df['amount'], errors='coerce')\n",
    "# df = df.dropna(subset=['invoiceDate', 'amount', 'productId'])\n",
    "\n",
    "product_id = 246 \n",
    "df = df[df['productId'] == product_id]\n",
    "\n",
    "# Create features\n",
    "df['date_num'] = df['invoiceDate'].astype(np.int64) // 10**9\n",
    "df['month'] = df['invoiceDate'].dt.month\n",
    "df['day'] = df['invoiceDate'].dt.day\n",
    "df['dow'] = df['invoiceDate'].dt.dayofweek\n",
    "\n",
    "train_df = df[(df['invoiceDate'] >= '2021-01-01') & (df['invoiceDate'] <= '2023-12-31')].copy()\n",
    "test_df = df[(df['invoiceDate'] >= '2024-01-01') & (df['invoiceDate'] <= '2024-12-31')].copy()\n",
    "\n",
    "\n",
    "features = ['date_num', 'month', 'day', 'dow']\n",
    "X_train = train_df[features].values\n",
    "y_train = train_df['amount'].values\n",
    "X_test = test_df[features].values\n",
    "y_true = test_df['amount'].values\n",
    "\n",
    "# Train TabPFNRegressor\n",
    "model = TabPFNRegressor(device='cuda')  # uses GPU\n",
    "model.fit(X_train, y_train)\n",
    "\n",
    "# Predict\n",
    "y_pred = model.predict(X_test)\n",
    "\n",
    "# Metrics\n",
    "def smape(y_true, y_pred):\n",
    "    denom = (np.abs(y_true) + np.abs(y_pred)) / 2\n",
    "    return np.mean(np.where(denom == 0, 0, np.abs(y_true - y_pred) / denom)) * 100\n",
    "\n",
    "def safe_mape(y_true, y_pred):\n",
    "    mask = y_true != 0\n",
    "    return np.mean(np.abs((y_true[mask] - y_pred[mask]) / y_true[mask])) * 100\n",
    "\n",
    "print(f\"SMAPE: {smape(y_true, y_pred):.2f}%\")\n",
    "print(f\"MAPE: {safe_mape(y_true, y_pred):.2f}%\")\n",
    "\n",
    "# Plot\n",
    "# plt.figure(figsize=(14, 6))\n",
    "# plt.plot(train_df['invoiceDate'], train_df['amount'], label='Historical Sales (2021–2023)', alpha=0.5)\n",
    "# plt.plot(test_df['invoiceDate'], y_true, label='Actual Sales (2024)', color='green')\n",
    "# plt.plot(test_df['invoiceDate'], y_pred, label='Predicted Sales (2024)', color='red', linestyle='--')\n",
    "# plt.xlabel(\"Date\")\n",
    "# plt.ylabel(\"Amount\")\n",
    "# plt.title(f\"Sales Prediction for Product ID: {product_id}\")\n",
    "# plt.legend()\n",
    "# plt.tight_layout()\n",
    "# plt.show()\n"
   ]
  },
  {
   "cell_type": "markdown",
   "id": "5eb95ade",
   "metadata": {},
   "source": [
    "Prediction for 6 months"
   ]
  },
  {
   "cell_type": "code",
   "execution_count": null,
   "id": "da6eae2e",
   "metadata": {},
   "outputs": [
    {
     "name": "stdout",
     "output_type": "stream",
     "text": [
      "SMAPE: 79.51%\n",
      "MAPE: 90.21%\n"
     ]
    }
   ],
   "source": [
    "df = pd.read_csv('C:/Kenil Ramani/QB/GoalBot/CSV/dataset_v4.05.csv') \n",
    "df['invoiceDate'] = pd.to_datetime(df['invoiceDate'], errors='coerce')\n",
    "df['amount'] = pd.to_numeric(df['amount'], errors='coerce')\n",
    "# df = df.dropna(subset=['invoiceDate', 'amount', 'productId'])\n",
    "\n",
    "product_id = 50 \n",
    "df = df[df['productId'] == product_id]\n",
    "\n",
    "# Create features\n",
    "df['date_num'] = df['invoiceDate'].astype(np.int64) // 10**9\n",
    "df['month'] = df['invoiceDate'].dt.month\n",
    "df['day'] = df['invoiceDate'].dt.day\n",
    "df['dow'] = df['invoiceDate'].dt.dayofweek\n",
    "\n",
    "train_df = df[(df['invoiceDate'] >= '2021-01-01') & (df['invoiceDate'] <= '2023-12-31')].copy()\n",
    "test_df = df[(df['invoiceDate'] >= '2024-01-01') & (df['invoiceDate'] <= '2024-06-30')].copy()\n",
    "\n",
    "\n",
    "features = ['date_num', 'month', 'day', 'dow']\n",
    "X_train = train_df[features].values\n",
    "y_train = train_df['amount'].values\n",
    "X_test = test_df[features].values\n",
    "y_true = test_df['amount'].values\n",
    "\n",
    "# Train TabPFNRegressor\n",
    "model = TabPFNRegressor(device='cuda')  # uses GPU\n",
    "model.fit(X_train, y_train)\n",
    "\n",
    "# Predict\n",
    "y_pred = model.predict(X_test)\n",
    "\n",
    "# Metrics\n",
    "def smape(y_true, y_pred):\n",
    "    denom = (np.abs(y_true) + np.abs(y_pred)) / 2\n",
    "    return np.mean(np.where(denom == 0, 0, np.abs(y_true - y_pred) / denom)) * 100\n",
    "\n",
    "def safe_mape(y_true, y_pred):\n",
    "    mask = y_true != 0\n",
    "    return np.mean(np.abs((y_true[mask] - y_pred[mask]) / y_true[mask])) * 100\n",
    "\n",
    "print(f\"SMAPE: {smape(y_true, y_pred):.2f}%\")\n",
    "print(f\"MAPE: {safe_mape(y_true, y_pred):.2f}%\")\n",
    "\n",
    "# Plot\n",
    "# plt.figure(figsize=(14, 6))\n",
    "# plt.plot(train_df['invoiceDate'], train_df['amount'], label='Historical Sales (2021–2023)', alpha=0.5)\n",
    "# plt.plot(test_df['invoiceDate'], y_true, label='Actual Sales (2024)', color='green')\n",
    "# plt.plot(test_df['invoiceDate'], y_pred, label='Predicted Sales (2024)', color='red', linestyle='--')\n",
    "# plt.xlabel(\"Date\")\n",
    "# plt.ylabel(\"Amount\")\n",
    "# plt.title(f\"Sales Prediction for Product ID: {product_id}\")\n",
    "# plt.legend()\n",
    "# plt.tight_layout()\n",
    "# plt.show()"
   ]
  },
  {
   "cell_type": "markdown",
   "id": "8da15d00",
   "metadata": {},
   "source": [
    "Dynamic"
   ]
  },
  {
   "cell_type": "code",
   "execution_count": 5,
   "id": "6004f432",
   "metadata": {},
   "outputs": [
    {
     "name": "stdout",
     "output_type": "stream",
     "text": [
      "Predicting from 2024-01-01 to 2024-03-31\n",
      "SMAPE: 86.59%\n",
      "MAPE: 186.64%\n"
     ]
    }
   ],
   "source": [
    "import pandas as pd\n",
    "import numpy as np\n",
    "import matplotlib.pyplot as plt\n",
    "from tabpfn import TabPFNRegressor\n",
    "import torch\n",
    "from dateutil.relativedelta import relativedelta\n",
    "\n",
    "months_to_predict = 3  # Change this to 1, 3, 6, or 9 as needed\n",
    "\n",
    "df = pd.read_csv('C:/Kenil Ramani/QB/GoalBot/CSV/dataset_v4.05.csv') \n",
    "df['invoiceDate'] = pd.to_datetime(df['invoiceDate'], errors='coerce')\n",
    "df['amount'] = pd.to_numeric(df['amount'], errors='coerce')\n",
    "\n",
    "product_id = 283 \n",
    "df = df[df['productId'] == product_id]\n",
    "\n",
    "df['date_num'] = df['invoiceDate'].astype(np.int64) // 10**9\n",
    "df['month'] = df['invoiceDate'].dt.month\n",
    "df['day'] = df['invoiceDate'].dt.day\n",
    "df['dow'] = df['invoiceDate'].dt.dayofweek\n",
    "\n",
    "train_df = df[(df['invoiceDate'] >= '2021-01-01') & (df['invoiceDate'] <= '2023-12-31')].copy()\n",
    "\n",
    "start_test = pd.to_datetime('2024-01-01')\n",
    "end_test = start_test + relativedelta(months=months_to_predict) - pd.Timedelta(days=1)\n",
    "\n",
    "test_df = df[(df['invoiceDate'] >= start_test) & (df['invoiceDate'] <= end_test)].copy()\n",
    "\n",
    "features = ['date_num', 'month', 'day', 'dow']\n",
    "X_train = train_df[features].values\n",
    "y_train = train_df['amount'].values\n",
    "X_test = test_df[features].values\n",
    "y_true = test_df['amount'].values\n",
    "\n",
    "model = TabPFNRegressor(device='cuda')  # uses GPU\n",
    "model.fit(X_train, y_train)\n",
    "y_pred = model.predict(X_test)\n",
    "\n",
    "def smape(y_true, y_pred):\n",
    "    denom = (np.abs(y_true) + np.abs(y_pred)) / 2\n",
    "    return np.mean(np.where(denom == 0, 0, np.abs(y_true - y_pred) / denom)) * 100\n",
    "\n",
    "def safe_mape(y_true, y_pred):\n",
    "    mask = y_true != 0\n",
    "    return np.mean(np.abs((y_true[mask] - y_pred[mask]) / y_true[mask])) * 100\n",
    "\n",
    "print(f\"Predicting from {start_test.date()} to {end_test.date()}\")\n",
    "print(f\"SMAPE: {smape(y_true, y_pred):.2f}%\")\n",
    "print(f\"MAPE: {safe_mape(y_true, y_pred):.2f}%\")\n"
   ]
  },
  {
   "cell_type": "code",
   "execution_count": 2,
   "id": "4062cc06",
   "metadata": {},
   "outputs": [
    {
     "name": "stdout",
     "output_type": "stream",
     "text": [
      "     Actual    Predicted\n",
      "0   2196.40  3864.175049\n",
      "1    109.82  3655.125000\n",
      "2   2196.40  3585.794434\n",
      "3    439.28  3655.125000\n",
      "4      0.00  3655.125000\n",
      "5   5271.36  3683.448242\n",
      "6   3514.24  3683.448242\n",
      "7      0.00  3493.676270\n",
      "8  14056.96  3920.161377\n",
      "9   1976.76  3655.125000\n"
     ]
    }
   ],
   "source": [
    "df_check = pd.DataFrame({'Actual': y_true, 'Predicted': y_pred})\n",
    "print(df_check.head(10))"
   ]
  },
  {
   "cell_type": "code",
   "execution_count": 20,
   "id": "e1543318",
   "metadata": {},
   "outputs": [
    {
     "name": "stdout",
     "output_type": "stream",
     "text": [
      "Min amount: 0.0, Max amount: 7714.5\n"
     ]
    }
   ],
   "source": [
    "print(f\"Min amount: {y_true.min()}, Max amount: {y_true.max()}\")"
   ]
  },
  {
   "cell_type": "code",
   "execution_count": null,
   "id": "65d8e9c4",
   "metadata": {},
   "outputs": [],
   "source": []
  },
  {
   "cell_type": "markdown",
   "id": "b80a6833",
   "metadata": {},
   "source": [
    "AutoTabPFN"
   ]
  },
  {
   "cell_type": "code",
   "execution_count": null,
   "id": "962c2671",
   "metadata": {},
   "outputs": [],
   "source": [
    "# !git clone https://github.com/priorlabs/tabpfn-extensions.git\n",
    "# !pip install -e tabpfn-extensions\n",
    "# Clone and install the repository\n",
    "# !pip install \"tabpfn-extensions[all] @ git+https://github.com/PriorLabs/tabpfn-extensions.git\""
   ]
  },
  {
   "cell_type": "code",
   "execution_count": 1,
   "id": "61e7181c",
   "metadata": {},
   "outputs": [
    {
     "name": "stderr",
     "output_type": "stream",
     "text": [
      "c:\\Kenil Ramani\\QB\\myvenv\\Lib\\site-packages\\hyperopt\\atpe.py:19: UserWarning: pkg_resources is deprecated as an API. See https://setuptools.pypa.io/en/latest/pkg_resources.html. The pkg_resources package is slated for removal as early as 2025-11-30. Refrain from using this package or pin to Setuptools<81.\n",
      "  import pkg_resources\n"
     ]
    }
   ],
   "source": [
    "import pandas as pd\n",
    "import numpy as np\n",
    "import matplotlib.pyplot as plt\n",
    "# from tabpfn import AutoTabPFNRegressor\n",
    "from tabpfn_extensions import AutoTabPFNRegressor\n",
    "import torch\n",
    "from dateutil.relativedelta import relativedelta"
   ]
  },
  {
   "cell_type": "code",
   "execution_count": 2,
   "id": "1f03bb99",
   "metadata": {},
   "outputs": [
    {
     "name": "stderr",
     "output_type": "stream",
     "text": [
      "INFO:tabpfn_extensions.post_hoc_ensembles.greedy_weighted_ensemble:Order of selections: [np.int64(0), np.int64(1), np.int64(0), np.int64(1), np.int64(0), np.int64(0), np.int64(1), np.int64(0), np.int64(1), np.int64(0), np.int64(0), np.int64(1), np.int64(0), np.int64(1), np.int64(0), np.int64(0), np.int64(1), np.int64(0), np.int64(1), np.int64(0), np.int64(0), np.int64(1), np.int64(0), np.int64(1), np.int64(0)]\n",
      "INFO:tabpfn_extensions.post_hoc_ensembles.greedy_weighted_ensemble:Val loss over iterations: [np.float64(28022752.79749122), np.float64(27752688.386326306), np.float64(27745570.939858213), np.float64(27745570.939858213), np.float64(27736761.248422693), np.float64(27736761.248422693), np.float64(27736761.248422693), np.float64(27736761.248422693), np.float64(27736761.248422693), np.float64(27736761.248422693), np.float64(27736761.248422693), np.float64(27736761.248422693), np.float64(27736761.248422693), np.float64(27736761.248422693), np.float64(27736761.248422693), np.float64(27736761.248422693), np.float64(27736761.248422693), np.float64(27736761.248422693), np.float64(27736761.248422693), np.float64(27736761.248422693), np.float64(27736761.248422693), np.float64(27736761.248422693), np.float64(27736761.248422693), np.float64(27736761.248422693), np.float64(27736761.248422693)]\n",
      "INFO:tabpfn_extensions.post_hoc_ensembles.greedy_weighted_ensemble:Model losses: [28022752.79749122 28356874.22686889 28739004.15972107]\n",
      "INFO:tabpfn_extensions.post_hoc_ensembles.greedy_weighted_ensemble:Best weights: [0.6 0.4 0. ]\n",
      "c:\\Kenil Ramani\\QB\\myvenv\\Lib\\site-packages\\sklearn\\preprocessing\\_data.py:3453: RuntimeWarning: overflow encountered in cast\n",
      "  x_inv[pos] = np.power(x[pos] * lmbda + 1, 1 / lmbda) - 1\n"
     ]
    },
    {
     "name": "stdout",
     "output_type": "stream",
     "text": [
      "Predicting from 2024-01-01 to 2024-01-31\n",
      "SMAPE: 95.57%\n",
      "MAPE: 389.43%\n"
     ]
    }
   ],
   "source": [
    "months_to_predict = 1  # Change this to 3, 6, or 9 as needed\n",
    "\n",
    "df = pd.read_csv('C:/Kenil Ramani/QB/GoalBot/CSV/dataset_v4.05.csv') \n",
    "df['invoiceDate'] = pd.to_datetime(df['invoiceDate'], errors='coerce')\n",
    "df['amount'] = pd.to_numeric(df['amount'], errors='coerce')\n",
    "\n",
    "product_id = 283 \n",
    "df = df[df['productId'] == product_id]\n",
    "\n",
    "df['date_num'] = df['invoiceDate'].astype(np.int64) // 10**9\n",
    "df['month'] = df['invoiceDate'].dt.month\n",
    "df['day'] = df['invoiceDate'].dt.day\n",
    "df['dow'] = df['invoiceDate'].dt.dayofweek\n",
    "\n",
    "train_df = df[(df['invoiceDate'] >= '2021-01-01') & (df['invoiceDate'] <= '2023-12-31')].copy()\n",
    "\n",
    "start_test = pd.to_datetime('2024-01-01')\n",
    "end_test = start_test + relativedelta(months=months_to_predict) - pd.Timedelta(days=1)\n",
    "\n",
    "test_df = df[(df['invoiceDate'] >= start_test) & (df['invoiceDate'] <= end_test)].copy()\n",
    "\n",
    "features = ['date_num', 'month', 'day', 'dow']\n",
    "X_train = train_df[features].values\n",
    "y_train = train_df['amount'].values\n",
    "X_test = test_df[features].values\n",
    "y_true = test_df['amount'].values\n",
    "\n",
    "model = AutoTabPFNRegressor(device='cuda')  # uses GPU\n",
    "model.fit(X_train, y_train)\n",
    "y_pred = model.predict(X_test)\n",
    "\n",
    "def smape(y_true, y_pred):\n",
    "    denom = (np.abs(y_true) + np.abs(y_pred)) / 2\n",
    "    return np.mean(np.where(denom == 0, 0, np.abs(y_true - y_pred) / denom)) * 100\n",
    "\n",
    "def safe_mape(y_true, y_pred):\n",
    "    mask = y_true != 0\n",
    "    return np.mean(np.abs((y_true[mask] - y_pred[mask]) / y_true[mask])) * 100\n",
    "\n",
    "print(f\"Predicting from {start_test.date()} to {end_test.date()}\")\n",
    "print(f\"SMAPE: {smape(y_true, y_pred):.2f}%\")\n",
    "print(f\"MAPE: {safe_mape(y_true, y_pred):.2f}%\")\n"
   ]
  },
  {
   "cell_type": "code",
   "execution_count": null,
   "id": "8a32f452",
   "metadata": {},
   "outputs": [],
   "source": []
  }
 ],
 "metadata": {
  "kernelspec": {
   "display_name": "myvenv",
   "language": "python",
   "name": "python3"
  },
  "language_info": {
   "codemirror_mode": {
    "name": "ipython",
    "version": 3
   },
   "file_extension": ".py",
   "mimetype": "text/x-python",
   "name": "python",
   "nbconvert_exporter": "python",
   "pygments_lexer": "ipython3",
   "version": "3.12.8"
  }
 },
 "nbformat": 4,
 "nbformat_minor": 5
}
